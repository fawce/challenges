{
  "nbformat": 4,
  "nbformat_minor": 0,
  "metadata": {
    "colab": {
      "provenance": [],
      "include_colab_link": true
    },
    "kernelspec": {
      "name": "python3",
      "display_name": "Python 3"
    },
    "language_info": {
      "name": "python"
    }
  },
  "cells": [
    {
      "cell_type": "markdown",
      "metadata": {
        "id": "view-in-github",
        "colab_type": "text"
      },
      "source": [
        "<a href=\"https://colab.research.google.com/github/fawce/challenges/blob/main/challenge_0.ipynb\" target=\"_parent\"><img src=\"https://colab.research.google.com/assets/colab-badge.svg\" alt=\"Open In Colab\"/></a>"
      ]
    },
    {
      "cell_type": "markdown",
      "source": [
        "# Welcome to the Quantopian Challenge, Issue 0!\n",
        "\n",
        "The Quantopian Challenge Cup is a series of quant brainteasers.\n",
        "The current challenge is:\n",
        "\n",
        "\n",
        "> Generate a series with 1000 daily steps that has a Sharpe of 2+/-0.1.\n",
        "> Assumptions:\n",
        ">  - Risk free rate is 0% (party like it is 2019)\n",
        ">  - We live in a binary-loving world where there are 256 trading days.\n",
        "\n",
        "\n",
        "You can use this notebook to create your answer in python and submit it for testing.\n",
        "\n",
        "If you prefer to use another programming language, it is possible to complete the challenge in any language, but for this first edition we only have a helper notebook for python.\n",
        "\n",
        "## Instructions\n",
        "1. Set YOUR_EMAIL address in the first code cell\n",
        "2. Implement challenge_0_solution to create your answer in the first cell.\n",
        "3. Run the second cell to submit your answer!"
      ],
      "metadata": {
        "id": "LFgJu8BfntDN"
      }
    },
    {
      "cell_type": "code",
      "source": [
        "# Welcome to Quantopian Challenge #0\n",
        "# Instructions:\n",
        "\n",
        "\n",
        "import json\n",
        "import re\n",
        "import requests\n",
        "import numpy as np\n",
        "\n",
        "YOUR_EMAIL = \"your_email\" # <<<<< Be sure to set your email address.\n",
        "\n",
        "\n",
        "###############################################################################\n",
        "# Challenge Description                                                       #\n",
        "# ---------------------                                                       #\n",
        "# Generate a series with 1000 daily steps that has a Sharpe of 2+/-0.1.       #\n",
        "#                                                                             #\n",
        "# vvvvvvvvvvv  IMPLEMENT THIS METHOD TO SOLVE THE CHALLENGE!  vvvvvvvvvvvvvvv #\n",
        "from scipy.optimize import minimize, brent\n",
        "def challenge_0(step_count: int, sharpe_target: float) -> np.ndarray:\n",
        "  \"\"\"\n",
        "  parameters:\n",
        "  - `step_count` -- number of daily steps for your series\n",
        "  - `sharpe_target` -- desired sharpe ratio for your series\n",
        "\n",
        "  returns:\n",
        "  a series with `step_count` floats, that has a sharpe of `sharpe_target`\n",
        "  \"\"\"\n",
        "  a = np.random.randn(step_count)\n",
        "  return a\n"
      ],
      "metadata": {
        "id": "LdopqCFHNkvW"
      },
      "execution_count": null,
      "outputs": []
    },
    {
      "cell_type": "markdown",
      "source": [
        "# Submitting your answer\n",
        "\n",
        "After you implement your solution in the cell above, run the next cell to submit your answer!"
      ],
      "metadata": {
        "id": "O2sihpxRpIPJ"
      }
    },
    {
      "cell_type": "code",
      "source": [
        "###############################################################################\n",
        "# Running this cell will:\n",
        "# 1. Test your submission locally\n",
        "# 2. Submit your answer\n",
        "#\n",
        "# You shouldn't need to edit this cell. If your solution doesn't pass, edit\n",
        "# the challenge_0 above.\n",
        "##############################################################################\n",
        "\n",
        "BASE_URL=\"https://muse.quantopian.com\"\n",
        "\n",
        "def get_params():\n",
        "  params = requests.get(f\"{BASE_URL}/api/v1/challenges/0/params\")\n",
        "  return params.json()\n",
        "\n",
        "def test_solution():\n",
        "  regex = r'^[a-z0-9._%+-]+@[a-z0-9.-]+\\.[a-z]{2,}$'\n",
        "  # Assert that the email matches the regex\n",
        "  try:\n",
        "    invalid_email_msg = \"You must set `YOUR_EMAIL` to a valid email address\"\n",
        "    assert re.match(regex, YOUR_EMAIL, re.IGNORECASE), invalid_email_msg\n",
        "\n",
        "    params = get_params()\n",
        "    result = challenge_0(**params)\n",
        "    assert len(result) == params['step_count'], f\"result must be {params['step_count']} elements\"\n",
        "    assert isinstance(result, np.ndarray), f\"result must be a numpy array\"\n",
        "    assert result.dtype.kind in 'f', \"Make sure all array elements are floats\"\n",
        "    print(\"Looks safe to submit!\")\n",
        "    return True\n",
        "  except AssertionError as ae:\n",
        "    print(ae)\n",
        "    return False\n",
        "\n",
        "def submit_solution():\n",
        "\n",
        "  if test_solution():\n",
        "    params = get_params()\n",
        "    result = challenge_0(**params)\n",
        "    payload={\n",
        "        \"submission\":{\n",
        "            'email':YOUR_EMAIL,\n",
        "            'params':params,\n",
        "            'result':result.tolist()\n",
        "        }\n",
        "    }\n",
        "    challenge_result = requests.post(\n",
        "          f\"{BASE_URL}/api/v1/challenges/0/solution\",\n",
        "          json=payload\n",
        "        )\n",
        "    val = challenge_result.json()\n",
        "    return val\n",
        "\n",
        "submit_solution()"
      ],
      "metadata": {
        "id": "JfolS7rljaJY"
      },
      "execution_count": null,
      "outputs": []
    }
  ]
}