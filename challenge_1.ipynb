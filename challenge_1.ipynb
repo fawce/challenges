{
  "nbformat": 4,
  "nbformat_minor": 0,
  "metadata": {
    "colab": {
      "provenance": [],
      "include_colab_link": true
    },
    "kernelspec": {
      "name": "python3",
      "display_name": "Python 3"
    },
    "language_info": {
      "name": "python"
    }
  },
  "cells": [
    {
      "cell_type": "markdown",
      "metadata": {
        "id": "view-in-github",
        "colab_type": "text"
      },
      "source": [
        "<a href=\"https://colab.research.google.com/github/fawce/challenges/blob/main/challenge_1.ipynb\" target=\"_parent\"><img src=\"https://colab.research.google.com/assets/colab-badge.svg\" alt=\"Open In Colab\"/></a>"
      ]
    },
    {
      "cell_type": "code",
      "source": [
        "###############################################################################\n",
        "# Challenge Description                                                       #\n",
        "# ---------------------                                                       #\n",
        "# We expect an average daily pnl of 0.1% and a daily standard dev of 1%,      #\n",
        "# What is the probability of having a negative pnl after 100 days?            #\n",
        "#                                                                             #\n",
        "#                                                                             #\n",
        "# Instructions                                                                #\n",
        "# ---------------------                                                       #\n",
        "#  1. set YOUR_EMAIL to a valid email address                                 #\n",
        "#  2. Implement the challenge method to solve the puzzle.                     #\n",
        "#  3. Run this cell to submit and check your answer.                          #\n",
        "###############################################################################\n",
        "YOUR_EMAIL = \"your_email_please\" # <<<<< Be sure to set your email address.\n",
        "\n",
        "def challenge(avg_r, std_r, num_days) -> float:\n",
        "  \"\"\"\n",
        "  parameters:\n",
        "  - `avg_r` -- the average daily returns\n",
        "  - `std_r` -- the standard deviation of daily returns\n",
        "  - `num_days` -- the number of days\n",
        "\n",
        "  returns:\n",
        "  The percentage probability of having a negative pnl after num_days,\n",
        "  represented by a float between 0.0 and 1.0\n",
        "  \"\"\"\n",
        "  return 0.0\n",
        "\n",
        "\n",
        "\n",
        "###############################################################################\n",
        "# Code below sends checks your answer.\n",
        "##############################################################################\n",
        "BASE_URL=f\"https://muse.quantopian.com/api/v1/challenges/1\"\n",
        "\n",
        "import requests\n",
        "\n",
        "def submit_solution():\n",
        "  params_r = requests.get(f\"{BASE_URL}/params\")\n",
        "  if params_r.status_code != 200:\n",
        "    return params_r.json()\n",
        "\n",
        "  params = params_r.json()\n",
        "  result = challenge(**params)\n",
        "  payload={\n",
        "      \"submission\":{\n",
        "          'email':YOUR_EMAIL,\n",
        "          'params':params,\n",
        "          'result':result\n",
        "      }\n",
        "  }\n",
        "  challenge_result = requests.post(\n",
        "        f\"{BASE_URL}/solution\",\n",
        "        json=payload\n",
        "      )\n",
        "\n",
        "  return challenge_result.json()\n",
        "\n",
        "submit_solution()"
      ],
      "metadata": {
        "id": "LdopqCFHNkvW"
      },
      "execution_count": null,
      "outputs": []
    },
    {
      "cell_type": "code",
      "source": [],
      "metadata": {
        "id": "zhelHybRgfS-"
      },
      "execution_count": null,
      "outputs": []
    }
  ]
}