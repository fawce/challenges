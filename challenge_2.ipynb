{
  "nbformat": 4,
  "nbformat_minor": 0,
  "metadata": {
    "colab": {
      "provenance": [],
      "authorship_tag": "ABX9TyNxD9i5HPi351+Dk6zLCUGl",
      "include_colab_link": true
    },
    "kernelspec": {
      "name": "python3",
      "display_name": "Python 3"
    },
    "language_info": {
      "name": "python"
    }
  },
  "cells": [
    {
      "cell_type": "markdown",
      "metadata": {
        "id": "view-in-github",
        "colab_type": "text"
      },
      "source": [
        "<a href=\"https://colab.research.google.com/github/fawce/challenges/blob/main/challenge_2.ipynb\" target=\"_parent\"><img src=\"https://colab.research.google.com/assets/colab-badge.svg\" alt=\"Open In Colab\"/></a>"
      ]
    },
    {
      "cell_type": "code",
      "execution_count": null,
      "metadata": {
        "id": "0IBMov6loLsZ"
      },
      "outputs": [],
      "source": [
        "###############################################################################\n",
        "# Challenge Description                                                       #\n",
        "# ---------------------                                                       #\n",
        "# We have a series of daily returns s. Build a series with hourly returns\n",
        "# (24hr day), that closely follows the daily returns and has a Sharpe within\n",
        "# 10% of the daily series.\n",
        "# This is about understanding data and sampling.                              #\n",
        "#                                                                             #\n",
        "# Assumptions:                                                                #\n",
        "# ---------------------                                                       #\n",
        "# - 24 hour day\n",
        "# - Risk free rate is 0%\n",
        "# - We live in a binary-loving world where there are 256 trading days.                              #\n",
        "#                                                                             #\n",
        "#                                                                             #\n",
        "# Instructions                                                                #\n",
        "# ---------------------                                                       #\n",
        "#  1. set YOUR_EMAIL to a valid email address                                 #\n",
        "#  2. Implement the challenge method to solve the puzzle.                     #\n",
        "#  3. Run this cell to submit and check your answer.                          #\n",
        "###############################################################################\n",
        "YOUR_EMAIL = \"your_email\" # <<<<< Be sure to set your email address.\n",
        "import numpy as np\n",
        "def challenge(daily_returns):\n",
        "  \"\"\"\n",
        "  parameters:\n",
        "  - `daily_returns` -- the original series of daily returns. List of floats.\n",
        "\n",
        "  returns:\n",
        "  list of hourly returns\n",
        "  \"\"\"\n",
        "\n",
        "  return np.random.randn(100).tolist()\n",
        "\n",
        "\n",
        "###############################################################################\n",
        "# Code below sends checks your answer.\n",
        "##############################################################################\n",
        "BASE_URL=\"https://muse.quantopian.com/api/v1/challenges/2\"\n",
        "import requests\n",
        "\n",
        "def submit_solution():\n",
        "  params_r = requests.get(f\"{BASE_URL}/params\")\n",
        "  if params_r.status_code != 200:\n",
        "    return params_r.json()\n",
        "\n",
        "  params = params_r.json()\n",
        "  result = challenge(**params)\n",
        "  payload={\n",
        "      \"submission\":{\n",
        "          'email':YOUR_EMAIL,\n",
        "          'params':params,\n",
        "          'result':result\n",
        "      }\n",
        "  }\n",
        "  challenge_result = requests.post(\n",
        "        f\"{BASE_URL}/solution\",\n",
        "        json=payload\n",
        "      )\n",
        "\n",
        "  return challenge_result.json()\n",
        "\n",
        "submit_solution()"
      ]
    }
  ]
}