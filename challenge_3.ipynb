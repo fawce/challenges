{
  "nbformat": 4,
  "nbformat_minor": 0,
  "metadata": {
    "colab": {
      "provenance": [],
      "authorship_tag": "ABX9TyON1pVIZQbrsKZT4kfVpBhP",
      "include_colab_link": true
    },
    "kernelspec": {
      "name": "python3",
      "display_name": "Python 3"
    },
    "language_info": {
      "name": "python"
    }
  },
  "cells": [
    {
      "cell_type": "markdown",
      "metadata": {
        "id": "view-in-github",
        "colab_type": "text"
      },
      "source": [
        "<a href=\"https://colab.research.google.com/github/fawce/challenges/blob/main/challenge_3.ipynb\" target=\"_parent\"><img src=\"https://colab.research.google.com/assets/colab-badge.svg\" alt=\"Open In Colab\"/></a>"
      ]
    },
    {
      "cell_type": "code",
      "execution_count": null,
      "metadata": {
        "id": "0IBMov6loLsZ"
      },
      "outputs": [],
      "source": [
        "###############################################################################\n",
        "# Challenge Description                                                       #\n",
        "# ---------------------                                                       #\n",
        "# You have an amazing trading strategy that consistently makes 2% per month.  #\n",
        "# You start with $100 and take out $20 at the end of each new year.           #\n",
        "# How long will it take to become a billionaire?                              #\n",
        "#                                                                             #\n",
        "# Assumptions:                                                                #\n",
        "# ---------------------                                                       #\n",
        "# The withdrawal happens at the end of the year.                              #\n",
        "#                                                                             #\n",
        "#                                                                             #\n",
        "# Instructions                                                                #\n",
        "# ---------------------                                                       #\n",
        "#  1. set YOUR_EMAIL to a valid email address                                 #\n",
        "#  2. Implement the challenge method to solve the puzzle.                     #\n",
        "#  3. Run this cell to submit and check your answer.                          #\n",
        "###############################################################################\n",
        "YOUR_EMAIL = \"your_email\" # <<<<< Be sure to set your email address.\n",
        "import numpy as np\n",
        "def challenge(start_balance, annual_withdrawal, monthly_return):\n",
        "  \"\"\"\n",
        "  parameters:\n",
        "  - `start_balance` -- the average daily returns\n",
        "  - `annual_withdrawal` -- the standard deviation of daily returns\n",
        "  - `monthly_return` -- the number of days\n",
        "\n",
        "  returns:\n",
        "  A dictionary of form: {\"years\":an_int, \"months\":an_int}\n",
        "  \"\"\"\n",
        "\n",
        "  years = 0\n",
        "  months = 0\n",
        "\n",
        "  return {\"years\":years, \"months\":months}\n",
        "\n",
        "\n",
        "\n",
        "###############################################################################\n",
        "# Code below sends checks your answer.\n",
        "##############################################################################\n",
        "BASE_URL=\"https://muse.quantopian.com/api/v1/challenges/3\"\n",
        "import requests\n",
        "\n",
        "def submit_solution():\n",
        "  params_r = requests.get(f\"{BASE_URL}/params\")\n",
        "  if params_r.status_code != 200:\n",
        "    return params_r.json()\n",
        "\n",
        "  params = params_r.json()\n",
        "  result = challenge(**params)\n",
        "  payload={\n",
        "      \"submission\":{\n",
        "          'email':YOUR_EMAIL,\n",
        "          'params':params,\n",
        "          'result':result\n",
        "      }\n",
        "  }\n",
        "  challenge_result = requests.post(\n",
        "        f\"{BASE_URL}/solution\",\n",
        "        json=payload\n",
        "      )\n",
        "\n",
        "  return challenge_result.json()\n",
        "\n",
        "submit_solution()"
      ]
    }
  ]
}